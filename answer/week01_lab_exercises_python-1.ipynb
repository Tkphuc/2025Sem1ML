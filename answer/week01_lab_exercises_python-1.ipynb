{
  "cells": [
    {
      "cell_type": "markdown",
      "metadata": {
        "id": "2_Rg0qC4CZb-"
      },
      "source": [
        "---\n",
        "# <div align=\"center\"><font color='green'> COSC 2753 | Machine Learning  </font></div>\n",
        "## <div align=\"center\"> <font color='green'> Week 1 Lab Exercises: **Introduction to Python**</font></div>\n",
        "---\n",
        "\n",
        "We will be using the Python programming language for all lab exercises & assignments in this course. Python is a great general-purpose programming language on its own, but with the help of a few popular libraries (numpy, matplotlib, scikit-learn) it becomes a powerful environment for machine learning.\n",
        "\n",
        "We expect most students to be familiar with python. If you are unfamiliar with Python, you will need to get yourself up to speed. However, don't stress too much. This course doesn't focus on programming, so you won't need to learn too much Python to be able to complete the labs and assignments.\n",
        "\n",
        "The following lab exercise will provide you a quick crash course on both the Python programming language basics so that you can get yourself up to speed.\n",
        "\n",
        "**Note:**  \n",
        "*This tutorial is NOT designed to give you a comprehensive understanding of python and numpy. It is aimed at refreshing your python skills and giving you a start. If you like to learn python from scratch, a LinkedIn learning course is provided at Canvas week 1 module"
      ]
    },
    {
      "cell_type": "markdown",
      "metadata": {
        "id": "R9mdvxKECZcA"
      },
      "source": [
        "### Before starting the lab\n",
        "\n",
        "- You need to install anaconda on your local machine or log in to AWS classroom setup for the course (Instructions at Canvas)\n",
        "\n",
        "- You Need to be familiar with starting an IPython/Jupyter notebook (Instructions at Canvas week 1 module)\n",
        "\n",
        "***\n"
      ]
    },
    {
      "cell_type": "markdown",
      "metadata": {
        "id": "RiAFi8qECZcA"
      },
      "source": [
        "### Check Python version\n",
        "\n",
        "In this course we will be using python 3. You can double-check your Python version at the command line after activating your environment by running shell command `python --version`. In the notebook environment you can run shell commands by adding a `!` in front of the command. Run below cell to get the python version for your notebook."
      ]
    },
    {
      "cell_type": "code",
      "execution_count": 1,
      "metadata": {
        "colab": {
          "base_uri": "https://localhost:8080/"
        },
        "id": "6pA-yT99CZcB",
        "outputId": "6df5b836-f708-46e5-ef88-6b6151cb6261"
      },
      "outputs": [
        {
          "output_type": "stream",
          "name": "stdout",
          "text": [
            "Python 3.11.11\n"
          ]
        }
      ],
      "source": [
        "!python --version"
      ]
    },
    {
      "cell_type": "markdown",
      "metadata": {
        "id": "cCA3A14pCZcB"
      },
      "source": [
        "<font color='red'> Python version should be 3.5 or above. Please check your installation if the above condition is not meat. </font>\n",
        "___"
      ]
    },
    {
      "cell_type": "markdown",
      "metadata": {
        "id": "uQ09ubihCZcC"
      },
      "source": [
        "## Basic datatypes and operations\n",
        "\n",
        "Like most programming languages, python has several data types and supports many mathematical and logical operations.\n",
        "\n",
        "|   |    |\n",
        "| --- | --- |\n",
        "| Text Type |  str |\n",
        "| Numeric Types  |  int, float, complex  |\n",
        "| Sequence Types | list, tuple, range |\n",
        "| Mapping Type | dict |\n",
        "| Set Types | set, frozenset |\n",
        "| Boolean Type | bool |\n",
        "| Binary Types | bytes, bytearray, memoryview |"
      ]
    },
    {
      "cell_type": "markdown",
      "metadata": {
        "id": "rBS_XUt5CZcC"
      },
      "source": [
        "#### Numeric Types\n",
        "\n",
        "Unlike c++ (or many other programming languages) we do not have to define the data type of a variable in python. It is inferred automatically and, the data type of a variable can be printed as:"
      ]
    },
    {
      "cell_type": "code",
      "execution_count": null,
      "metadata": {
        "id": "Wi36FM1SCZcC"
      },
      "outputs": [],
      "source": [
        "x = 3\n",
        "print(type(x))"
      ]
    },
    {
      "cell_type": "markdown",
      "metadata": {
        "id": "4aCr4in9CZcD"
      },
      "source": [
        "We can also perform common mathematical operations on these numeric data types"
      ]
    },
    {
      "cell_type": "code",
      "execution_count": null,
      "metadata": {
        "id": "Grf_CtUNCZcD"
      },
      "outputs": [],
      "source": [
        "print(x)       # Prints \"3\"\n",
        "print(x + 1)   # Addition; prints \"4\"\n",
        "print(x - 1)   # Subtraction; prints \"2\"\n",
        "print(x * 2)   # Multiplication; prints \"6\"\n",
        "print(x ** 2)  # Exponentiation; prints \"9\"\n",
        "x += 1\n",
        "print(x)  # Prints \"4\"\n",
        "x *= 2\n",
        "print(x)  # Prints \"8\""
      ]
    },
    {
      "cell_type": "markdown",
      "metadata": {
        "id": "CVe0MclSCZcD"
      },
      "source": [
        "Same can be done with floats"
      ]
    },
    {
      "cell_type": "code",
      "execution_count": null,
      "metadata": {
        "id": "IOgtJ3hHCZcD"
      },
      "outputs": [],
      "source": [
        "y = 2.5\n",
        "print(type(y))\n",
        "print(y, y + 1, y * 2, y ** 2)"
      ]
    },
    {
      "cell_type": "markdown",
      "metadata": {
        "id": "Z7FUpY7UCZcE"
      },
      "source": [
        "#### Logical operators\n",
        "Python implements all of the usual operators for Boolean logic, but uses English words rather than symbols"
      ]
    },
    {
      "cell_type": "code",
      "execution_count": null,
      "metadata": {
        "id": "lf_RmuijCZcE"
      },
      "outputs": [],
      "source": [
        "t = True\n",
        "f = False\n",
        "print(type(t)) # Prints \"<class 'bool'>\"\n",
        "print(t and f) # Logical AND; prints \"False\"\n",
        "print(t or f)  # Logical OR; prints \"True\"\n",
        "print(not t)   # Logical NOT; prints \"False\"\n",
        "print(t != f)  # Logical XOR; prints \"True\""
      ]
    },
    {
      "cell_type": "markdown",
      "metadata": {
        "id": "pDU6Kfk5CZcE"
      },
      "source": [
        "#### String support in python"
      ]
    },
    {
      "cell_type": "code",
      "execution_count": null,
      "metadata": {
        "id": "O-r0OU5JCZcE"
      },
      "outputs": [],
      "source": [
        "hello = 'hello'    # String literals can use single quotes\n",
        "world = \"world\"    # or double quotes; it does not matter.\n",
        "print(hello)\n",
        "print(len(hello))\n",
        "hw = hello + ' ' + world  # String concatenation\n",
        "print(hw)\n",
        "hw12 = '%s %s %d' % (hello, world, 12)  # sprintf style string formatting\n",
        "print(hw12)"
      ]
    },
    {
      "cell_type": "markdown",
      "metadata": {
        "id": "tUhUw6qvCZcE"
      },
      "source": [
        "#### Some useful methods in string class for data pre-processing and cleaning"
      ]
    },
    {
      "cell_type": "code",
      "execution_count": null,
      "metadata": {
        "id": "vawmwxL_CZcE"
      },
      "outputs": [],
      "source": [
        "s = \"hello\"\n",
        "print(s.capitalize())  # Capitalize a string; prints \"Hello\"\n",
        "print(s.upper())       # Convert a string to uppercase; prints \"HELLO\"\n",
        "print(s.replace('l', '(ell)'))  # Replace all instances of one substring with another;\n",
        "                                # prints \"he(ell)(ell)o\"\n",
        "print('  world '.strip())  # Strip leading and trailing whitespace; prints \"world\""
      ]
    },
    {
      "cell_type": "markdown",
      "metadata": {
        "id": "TiAZaQZfCZcF"
      },
      "source": [
        "<font color='red'> **More detailed descriptions on python strings are provided in** [W3Schools Python Tutorial](https://www.w3schools.com/python/python_strings.asp)</font>\n",
        "\n",
        "---"
      ]
    },
    {
      "cell_type": "markdown",
      "metadata": {
        "id": "oLB84eBiCZcF"
      },
      "source": [
        "## Containers\n",
        "\n",
        "Python includes several built-in data types to store collections of data: lists, dictionaries, sets, and tuples"
      ]
    },
    {
      "cell_type": "markdown",
      "metadata": {
        "id": "y2hjdB_yCZcF"
      },
      "source": [
        "### Lists\n",
        "\n",
        "List are like arrays and they are very flexible:\n",
        " - Can be sliced & resized\n",
        " - Can contain elements of different types."
      ]
    },
    {
      "cell_type": "code",
      "execution_count": null,
      "metadata": {
        "id": "9tCgy59qCZcF"
      },
      "outputs": [],
      "source": [
        "list1 = [1,2,3,4]  #define and initialize a list\n",
        "print(list1[0], list1[2])\n",
        "\n",
        "list1[2] = \"three\"   # change element to a different data type\n",
        "print(list1[0], list1[2])\n",
        "\n",
        "print(list1[-1])     # Negative indices count from the end of the list; prints \"2\"\n",
        "\n",
        "list1.append(5)  # Add a new element to the end of the list\n",
        "print(list1)         # Prints \"[3, 1, 'foo', 'bar']\"\n",
        "\n",
        "#print length of list\n",
        "print(\"Length of list is: \", len(list1))"
      ]
    },
    {
      "cell_type": "markdown",
      "metadata": {
        "id": "SMFPQSE1CZcF"
      },
      "source": [
        "We can also access several elements of a list at ones using slicing."
      ]
    },
    {
      "cell_type": "code",
      "execution_count": null,
      "metadata": {
        "id": "NOVL7VhhCZcF"
      },
      "outputs": [],
      "source": [
        "list2 = list(range(10))     # range is a built-in function that creates a list of integers\n",
        "print(list2)\n",
        "print(list2[2:4])          # Get a slice from index 2 to 4 (exclusive);\n",
        "print(list2[2:])           # Get a slice from index 2 to the end;\n",
        "print(list2[:2])           # Get a slice from the start to index 2 (exclusive);\n",
        "print(list2[:-1])          # Slice indices can be negative, start to end - 1;\n",
        "print(list2[1:7:2])        # Get a slice of every other element from index 1 to 6\n",
        "print(list2[::-1])         # reverse the list order\n",
        "list2[2:4] = [8, 9]        # Assign a new sublist to a slice\n",
        "print(list2)"
      ]
    },
    {
      "cell_type": "markdown",
      "metadata": {
        "id": "n3LgtnD8CZcF"
      },
      "source": [
        "#### Loop over list elements"
      ]
    },
    {
      "cell_type": "code",
      "execution_count": null,
      "metadata": {
        "id": "c0GyNXi9CZcG"
      },
      "outputs": [],
      "source": [
        "temparatures = [30.2, 35.1, 36.6, 33.1]\n",
        "for temparature in temparatures:\n",
        "    print(temparature+1)"
      ]
    },
    {
      "cell_type": "markdown",
      "metadata": {
        "id": "uiAtfQQYCZcG"
      },
      "source": [
        "If you want access to the index of each element within the body of a loop, use the built-in `enumerate` function:"
      ]
    },
    {
      "cell_type": "code",
      "execution_count": null,
      "metadata": {
        "id": "lDPnevf4CZcG"
      },
      "outputs": [],
      "source": [
        "temparatures = [30.2, 35.1, 36.6, 33.1]\n",
        "for inx, temparature in enumerate(temparatures):\n",
        "    print('Temparature of patient {} is: {:.2f} degrees'.format(inx+1, temparature))"
      ]
    },
    {
      "cell_type": "markdown",
      "metadata": {
        "id": "c5hOluPXCZcG"
      },
      "source": [
        "#### List comprehensions\n",
        "\n",
        "Can be used to modify the elements of a list"
      ]
    },
    {
      "cell_type": "code",
      "execution_count": null,
      "metadata": {
        "id": "2Y0cLwRxCZcG"
      },
      "outputs": [],
      "source": [
        "nums = [0, 1, 2, 3, 4]\n",
        "squares = []\n",
        "for x in nums:\n",
        "    squares.append(x ** 2)\n",
        "print(squares)"
      ]
    },
    {
      "cell_type": "markdown",
      "metadata": {
        "id": "8vH9pC2yCZcG"
      },
      "source": [
        "In python there is an easier & cleaner way of doing this."
      ]
    },
    {
      "cell_type": "code",
      "execution_count": null,
      "metadata": {
        "id": "fj-bOF2MCZcH"
      },
      "outputs": [],
      "source": [
        "nums = [0, 1, 2, 3, 4]\n",
        "squares = [x ** 2 for x in nums]\n",
        "print(squares)"
      ]
    },
    {
      "cell_type": "markdown",
      "metadata": {
        "id": "_HL9nU8TCZcH"
      },
      "source": [
        "Conditions can also be added to list comprehensions."
      ]
    },
    {
      "cell_type": "code",
      "execution_count": null,
      "metadata": {
        "id": "ynfATt-UCZcH"
      },
      "outputs": [],
      "source": [
        "nums = [0, 1, 2, 3, 4]\n",
        "even_squares = [x ** 2 for x in nums if x % 2 == 0]\n",
        "print(even_squares)"
      ]
    },
    {
      "cell_type": "markdown",
      "metadata": {
        "id": "9OClcLQICZcH"
      },
      "source": [
        "<font color='red'> **More details on list can be found at** [W3Schools Python Tutorial](https://www.w3schools.com/python/python_lists.asp)</font>\n"
      ]
    },
    {
      "cell_type": "markdown",
      "metadata": {
        "id": "O0-LYAmPCZcH"
      },
      "source": [
        "### Dictionaries\n",
        "\n",
        "A dictionary stores a key and value pairs. For example you can use a dictionary to hold the information for a given student."
      ]
    },
    {
      "cell_type": "code",
      "execution_count": null,
      "metadata": {
        "id": "CWfAliXfCZcH"
      },
      "outputs": [],
      "source": [
        "d = {'first name': 'John', 'last name': 'Doe', 'age': 27, 'ML marks': 85}  # Create a new dictionary with some data\n",
        "print(d['first name'])       # Get an entry from a dictionary\n",
        "print('age' in d)     # Check if a dictionary has a given key\n",
        "d['AA marks'] = 68     # Set an entry in a dictionary\n",
        "print(d)\n",
        "\n",
        "print(d.get('APT marks', 'N/A'))  # Get an element with a default;\n",
        "print(d.get('ML marks', 'N/A'))    # Get an element with a default;\n",
        "del d['age']         # Remove an element from a dictionary\n",
        "print(d) # \"age\" is no longer a key;"
      ]
    },
    {
      "cell_type": "markdown",
      "metadata": {
        "id": "iaoj9vQfCZcI"
      },
      "source": [
        "#### Loop over Dictionaries\n"
      ]
    },
    {
      "cell_type": "code",
      "execution_count": null,
      "metadata": {
        "id": "UaZ4KZLiCZcI"
      },
      "outputs": [],
      "source": [
        "d = {'first name': 'John', 'last name': 'Doe', 'age': 27, 'ML marks': 85}\n",
        "for key in d:\n",
        "    value = d[key]\n",
        "    print('Key `{}` has value `{}`'.format(key, value))"
      ]
    },
    {
      "cell_type": "markdown",
      "metadata": {
        "id": "X94pg8bkCZcJ"
      },
      "source": [
        "If you want access to keys and their corresponding values, use the `items` method:"
      ]
    },
    {
      "cell_type": "code",
      "execution_count": null,
      "metadata": {
        "id": "ItrIo__fCZcJ"
      },
      "outputs": [],
      "source": [
        "d = {'first name': 'John', 'last name': 'Doe', 'age': 27, 'ML marks': 85}\n",
        "for key, value in d.items():\n",
        "    print('Key `{}` has value `{}`'.format(key, value))"
      ]
    },
    {
      "cell_type": "markdown",
      "metadata": {
        "id": "NOyiXEPQCZcJ"
      },
      "source": [
        "Similar to list, comprehensions allow you to easily construct dictionaries."
      ]
    },
    {
      "cell_type": "code",
      "execution_count": null,
      "metadata": {
        "id": "td5lLf-TCZcK"
      },
      "outputs": [],
      "source": [
        "nums = [0, 1, 2, 3, 4]\n",
        "even_num_to_square = {x: x ** 2 for x in nums if x % 2 == 0}\n",
        "print(even_num_to_square)"
      ]
    },
    {
      "cell_type": "markdown",
      "metadata": {
        "id": "TcYx49gcCZcK"
      },
      "source": [
        "### Sets\n",
        "\n",
        "Sets are useful in representing unordered data. Since sets are unordered, you cannot make assumptions about the order in which you visit the elements of the set. It may not be in the order you put elements in."
      ]
    },
    {
      "cell_type": "code",
      "execution_count": null,
      "metadata": {
        "id": "XTGi8PotCZcK"
      },
      "outputs": [],
      "source": [
        "animals = {'red', 'green', 'red', 'blue'}\n",
        "for idx, color in enumerate(animals):\n",
        "    print('#%d: %s' % (idx + 1, color))"
      ]
    },
    {
      "cell_type": "markdown",
      "metadata": {
        "id": "9gqoxLeDCZcK"
      },
      "source": [
        "Similar to list, comprehensions allow you to easily construct sets."
      ]
    },
    {
      "cell_type": "code",
      "execution_count": null,
      "metadata": {
        "id": "RbUMpfVmCZcL"
      },
      "outputs": [],
      "source": [
        "from math import sqrt\n",
        "nums = {int(sqrt(x)) for x in range(30)}\n",
        "print(nums)"
      ]
    },
    {
      "cell_type": "markdown",
      "metadata": {
        "id": "QFEh1mt4CZcL"
      },
      "source": [
        "### Tuples\n",
        "\n",
        "A tuple is an (immutable) ordered list of values. A tuple is in many ways similar to a list; one of the most important differences is that tuples can be used as keys in dictionaries and as elements of sets, while lists cannot."
      ]
    },
    {
      "cell_type": "code",
      "execution_count": null,
      "metadata": {
        "id": "JY8yPQC6CZcL"
      },
      "outputs": [],
      "source": [
        "d = {(x, y): x*y for x in range(10) for y in range(5)}  # Create a dictionary (2D array) with tuple keys\n",
        "t = (2, 4)        # Create a tuple\n",
        "print(type(t))    # Prints \"<class 'tuple'>\"\n",
        "print(d[t])       # Prints \"5\"\n",
        "print(d[(1, 1)])  # Prints \"1\""
      ]
    },
    {
      "cell_type": "markdown",
      "metadata": {
        "id": "0DEzMPEXCZcL"
      },
      "source": [
        "<font color='red'> **More details on tuples can be found at** [W3Schools Python Tutorial](https://www.w3schools.com/python/python_tuples.asp)</font>\n",
        "___"
      ]
    },
    {
      "cell_type": "markdown",
      "metadata": {
        "id": "5aiTAKGoCZcL"
      },
      "source": [
        "## Functions\n",
        "\n",
        "Python functions start with the `def` keyword. No need to define the output parameters like c++.\n",
        "\n",
        "Write a function to output if the input number is a whole square of another number."
      ]
    },
    {
      "cell_type": "code",
      "execution_count": null,
      "metadata": {
        "id": "kBHSurJqCZcM"
      },
      "outputs": [],
      "source": [
        "def is_whole_square(x):\n",
        "\n",
        "    output = int(round(x ** (1. / 2))) ** 2 == x\n",
        "\n",
        "    return output"
      ]
    },
    {
      "cell_type": "markdown",
      "metadata": {
        "id": "aTf7RHnICZcM"
      },
      "source": [
        "Print whole square number between 0 and 100"
      ]
    },
    {
      "cell_type": "code",
      "execution_count": null,
      "metadata": {
        "id": "3TeMHC8DCZcM"
      },
      "outputs": [],
      "source": [
        "whole_squares = [x for x in range(100) if is_whole_square(x)]\n",
        "print(whole_squares)"
      ]
    },
    {
      "cell_type": "markdown",
      "metadata": {
        "id": "8BhZ_8n0CZcM"
      },
      "source": [
        "We can also define functions that has default parameters"
      ]
    },
    {
      "cell_type": "code",
      "execution_count": null,
      "metadata": {
        "id": "vmQPe3l7CZcN"
      },
      "outputs": [],
      "source": [
        "def is_whole_pwr(x, pwr=2):\n",
        "\n",
        "    output = int(round(x ** (1. / pwr))) ** pwr == x\n",
        "\n",
        "    return output"
      ]
    },
    {
      "cell_type": "code",
      "execution_count": null,
      "metadata": {
        "id": "zygf62SICZcN"
      },
      "outputs": [],
      "source": [
        "whole_pwr2= [x for x in range(100) if is_whole_pwr(x)]\n",
        "print(whole_squares)"
      ]
    },
    {
      "cell_type": "code",
      "execution_count": null,
      "metadata": {
        "id": "iZtLoWsHCZcN"
      },
      "outputs": [],
      "source": [
        "whole_cube = [x for x in range(100) if is_whole_pwr(x, pwr=3)]\n",
        "print(whole_cube)"
      ]
    },
    {
      "cell_type": "markdown",
      "metadata": {
        "id": "RJ6guwyqCZcN"
      },
      "source": [
        "<font color='red'> **More details on functions can be found at** [W3Schools Python Tutorial](https://www.w3schools.com/python/python_functions.asp)</font>\n",
        "___"
      ]
    },
    {
      "cell_type": "markdown",
      "metadata": {
        "id": "wBtEs2cqCZcO"
      },
      "source": [
        "## Numpy\n",
        "Numpy is the core library for scientific computing in Python. It provides a high-performance multidimensional array object, and tools for working with these arrays.\n",
        "\n",
        "A numpy array is a grid of values, all of the same type, and is indexed by a tuple of nonnegative integers. Let's start with one dimensional arrays. A numpy 1D-array can be initiated from a python list and can access the elements using square brackets."
      ]
    },
    {
      "cell_type": "markdown",
      "metadata": {
        "id": "kdOH00fFCZcO"
      },
      "source": [
        "### Defining 1d-arrays"
      ]
    },
    {
      "cell_type": "code",
      "execution_count": null,
      "metadata": {
        "id": "kVWhxGYVCZcO"
      },
      "outputs": [],
      "source": [
        "import numpy as np\n",
        "\n",
        "x = np.array([1,2,3,4,5,6,7])\n",
        "print (x, x.shape, x.dtype)\n",
        "\n",
        "# can also change the data type\n",
        "y = x.astype(np.float)\n",
        "print (y, y.shape, y.dtype)\n",
        "\n",
        "# access elements with slicing\n",
        "print(x[1])\n",
        "print(x[3:5])"
      ]
    },
    {
      "cell_type": "markdown",
      "metadata": {
        "id": "abT5JvM5CZcO"
      },
      "source": [
        "We can also initialize multidimensional arrays. Multidimensional arrays can have one index per axis."
      ]
    },
    {
      "cell_type": "code",
      "execution_count": null,
      "metadata": {
        "id": "kbyYNecuCZcP"
      },
      "outputs": [],
      "source": [
        "b = np.array([[1,2,3,4],[5,6,7,8], [9,10,11,12]])   # 2 dimentional array\n",
        "print(b.shape)\n",
        "print(b[0, 0], b[0, 1], b[1, 0])\n",
        "\n",
        "# access elements with slicing\n",
        "print(b[:-1, :1])\n",
        "\n",
        "# we can use `:` to denote whole column or row\n",
        "print(b[:-1, :])"
      ]
    },
    {
      "cell_type": "markdown",
      "metadata": {
        "id": "pA7pgBA5CZcP"
      },
      "source": [
        "Some more important attributes of an ndarray object are:\n",
        "\n",
        "- ndarray.ndim: the number of axes (dimensions) of the array.\n",
        "- ndarray.shape: the dimensions of the array.\n",
        "- ndarray.size: the total number of elements of the array.\n",
        "- ndarray.dtype: an object describing the type of the elements in the array.\n",
        "- ndarray.itemsize: the size in bytes of each element of the array."
      ]
    },
    {
      "cell_type": "markdown",
      "metadata": {
        "id": "nTR_8p3CCZcP"
      },
      "source": [
        "Numpy also provide methods to create special type of arrays"
      ]
    },
    {
      "cell_type": "code",
      "execution_count": null,
      "metadata": {
        "id": "rw9HiuVrCZcQ"
      },
      "outputs": [],
      "source": [
        "a = np.zeros((2,2))   # Create an array of all zeros\n",
        "print(\"a =\", a,'\\n')\n",
        "\n",
        "b = np.ones((1,2))    # Create an array of all ones\n",
        "print(\"b =\", b,'\\n')\n",
        "\n",
        "c = np.eye(2)         # Create a 2x2 identity matrix\n",
        "print(\"c =\", c,'\\n')\n",
        "\n",
        "d = np.random.random((2,2))  # Create an array filled with random values\n",
        "print(\"d =\", d,'\\n')"
      ]
    },
    {
      "cell_type": "markdown",
      "metadata": {
        "id": "AXiMbjr_CZcQ"
      },
      "source": [
        "### Basic array operations\n",
        "\n",
        "Arithmetic operators on arrays apply elementwise. A new array is created and filled with the result."
      ]
    },
    {
      "cell_type": "code",
      "execution_count": null,
      "metadata": {
        "id": "DUYDQtZbCZcQ"
      },
      "outputs": [],
      "source": [
        "a = np.array([20, 30, 40, 50])\n",
        "b = np.arange(4)\n",
        "print(b)\n",
        "\n",
        "c = a - b\n",
        "print(c)\n",
        "\n",
        "d = b**2\n",
        "print(d)\n",
        "\n",
        "e = 10 * np.sin(a)\n",
        "print(e)\n",
        "\n",
        "f = a < 35\n",
        "print(f)\n",
        "\n"
      ]
    },
    {
      "cell_type": "markdown",
      "metadata": {
        "id": "ydD-H_iuCZcQ"
      },
      "source": [
        "We can also do matrix operations on multidimensional arrays"
      ]
    },
    {
      "cell_type": "code",
      "execution_count": null,
      "metadata": {
        "id": "qWAgiqyxCZcQ"
      },
      "outputs": [],
      "source": [
        "A = np.array([[1, 1],[0, 1]])\n",
        "B = np.array([2, 3])\n",
        "\n",
        "C = A.dot(B)\n",
        "print(C)"
      ]
    },
    {
      "cell_type": "markdown",
      "metadata": {
        "id": "FRs2VrtxCZcR"
      },
      "source": [
        "### Universal functions\n",
        "\n",
        "NumPy provides familiar mathematical functions such as sin, cos, and exp. Within NumPy, these functions operate elementwise on an array, producing an array as output."
      ]
    },
    {
      "cell_type": "code",
      "execution_count": null,
      "metadata": {
        "id": "EGXYxgovCZcR"
      },
      "outputs": [],
      "source": [
        "B = np.random.rand(3,2)\n",
        "print(B)\n",
        "print(\"\")\n",
        "\n",
        "print(np.exp(B))\n",
        "print(\"\")\n",
        "\n",
        "print(np.sqrt(B))\n",
        "print(\"\")\n",
        "\n",
        "C = np.random.rand(3,2)\n",
        "print(np.add(B, C))\n"
      ]
    },
    {
      "cell_type": "markdown",
      "metadata": {
        "id": "RUIcQzKBCZcR"
      },
      "source": [
        "Numpy provides many useful functions for performing computations on arrays; one of the most useful is sum"
      ]
    },
    {
      "cell_type": "code",
      "execution_count": null,
      "metadata": {
        "id": "JLnuonb7CZcR"
      },
      "outputs": [],
      "source": [
        "x = np.array([[1,2],[3,4]])\n",
        "\n",
        "print(np.sum(x))  # Compute sum of all elements\n",
        "print(np.sum(x, axis=0))  # Compute sum of each column\n",
        "print(np.sum(x, axis=1))  # Compute sum of each row\n",
        "\n",
        "print(np.mean(x))   # Compute mean of all elements;"
      ]
    },
    {
      "cell_type": "markdown",
      "metadata": {
        "id": "SBwslBSMCZcR"
      },
      "source": [
        "<font color='red'> **You can find the full list of mathematical functions provided by numpy in the documentation** [Mathematical functions](https://numpy.org/doc/stable/reference/routines.math.html)</font>"
      ]
    },
    {
      "cell_type": "markdown",
      "metadata": {
        "id": "Kl5z_X1FCZcS"
      },
      "source": [
        "### Iterating\n",
        "Iterating over multidimensional arrays is done with respect to the first axis:"
      ]
    },
    {
      "cell_type": "code",
      "execution_count": null,
      "metadata": {
        "id": "TA3sWsf7CZcS"
      },
      "outputs": [],
      "source": [
        "x = np.random.randint(0,100,size=(3,5))\n",
        "for row in x:\n",
        "    print(row)"
      ]
    },
    {
      "cell_type": "markdown",
      "metadata": {
        "id": "WNDYr6jTCZcS"
      },
      "source": [
        "If you want to go over each element of a multidimensional array you can use:"
      ]
    },
    {
      "cell_type": "code",
      "execution_count": null,
      "metadata": {
        "id": "4oIICUorCZcS"
      },
      "outputs": [],
      "source": [
        "for element in x.flat:\n",
        "    print(element)"
      ]
    },
    {
      "cell_type": "markdown",
      "metadata": {
        "id": "vWaMnnjtCZcS"
      },
      "source": [
        "### Shape manipulation"
      ]
    },
    {
      "cell_type": "markdown",
      "metadata": {
        "id": "wHUWWgkRCZcT"
      },
      "source": [
        "An array has a shape given by the number of elements along each axis. The shape of an array can be changed with various commands. Note that the following three commands all return a modified array, but do not change the original array:"
      ]
    },
    {
      "cell_type": "code",
      "execution_count": null,
      "metadata": {
        "id": "PawHiF0uCZcT"
      },
      "outputs": [],
      "source": [
        "x = np.random.randint(0,100,size=(3,4))\n",
        "print(\"x = \", x)\n",
        "\n",
        "print(\"Flattened x = \", x.ravel())  # returns the array, flattened\n",
        "\n",
        "print(\"Reshaped x = \", x.reshape(6,2))\n",
        "\n",
        "print(\"Tanspose of x = \", x.T)"
      ]
    },
    {
      "cell_type": "markdown",
      "metadata": {
        "id": "pMVkB9-jCZcT"
      },
      "source": [
        "### Copies\n",
        "\n",
        "Simple assignments make no copy of objects or their data."
      ]
    },
    {
      "cell_type": "code",
      "execution_count": null,
      "metadata": {
        "id": "FtnLj8ORCZcT"
      },
      "outputs": [],
      "source": [
        "a = np.random.randint(0,100,size=(3,4))\n",
        "print(a, '\\n')\n",
        "\n",
        "b = a # a and b are two names for the same ndarray object\n",
        "print(b is a, '\\n')\n",
        "\n",
        "# if a is changed it will change b as well\n",
        "a[2,2] = 225\n",
        "\n",
        "\n",
        "print(a, '\\n')\n",
        "print(b, '\\n')\n"
      ]
    },
    {
      "cell_type": "markdown",
      "metadata": {
        "id": "zPQcaXK_CZcT"
      },
      "source": [
        "#### Shallow copy\n",
        "Different array objects can share the same data. The `view` method creates a new array object that looks at the same data."
      ]
    },
    {
      "cell_type": "code",
      "execution_count": null,
      "metadata": {
        "id": "7yVoSArDCZcU"
      },
      "outputs": [],
      "source": [
        "a = np.random.randint(0,100,size=(3,4))\n",
        "print(a, '\\n')\n",
        "\n",
        "b = a.view() # a and b share the same data\n",
        "print(b is a, '\\n') # but they are not the same object\n",
        "\n",
        "# still if a is changed it will change b as well\n",
        "a[2,2] = 225\n",
        "\n",
        "\n",
        "print(a, '\\n')\n",
        "print(b, '\\n')"
      ]
    },
    {
      "cell_type": "markdown",
      "metadata": {
        "id": "a9rpN7sACZcU"
      },
      "source": [
        "#### Deep copy\n",
        "\n",
        "The copy method makes a complete copy of the array and its data."
      ]
    },
    {
      "cell_type": "code",
      "execution_count": null,
      "metadata": {
        "id": "FxkcmJ6WCZcU"
      },
      "outputs": [],
      "source": [
        "a = np.random.randint(0,100,size=(3,4))\n",
        "print(a, '\\n')\n",
        "\n",
        "b = a.copy() # a and b are different objects\n",
        "print(b is a, '\\n')\n",
        "\n",
        "# Now if a is changed it will NOT change b\n",
        "a[2,2] = 225\n",
        "\n",
        "\n",
        "print(a, '\\n')\n",
        "print(b, '\\n')"
      ]
    },
    {
      "cell_type": "markdown",
      "metadata": {
        "id": "mqxocLObCZcU"
      },
      "source": [
        "<font color='red'> **A more detailed Numpy tutorial is at** [NumPy quickstart](https://numpy.org/devdocs/user/quickstart.html) and [NumPy: the absolute basics for beginners](https://numpy.org/devdocs/user/absolute_beginners.html)</font>\n",
        "___"
      ]
    },
    {
      "cell_type": "markdown",
      "metadata": {
        "id": "9lvJPSyVCZcU"
      },
      "source": [
        "## Plotting\n",
        "\n",
        "For plotting graphs and images in python we can use `matplotlib` library. Below we have a simple example that uses `matplotlib.pyplot`"
      ]
    },
    {
      "cell_type": "code",
      "execution_count": null,
      "metadata": {
        "id": "SrpUrj0cCZcV"
      },
      "outputs": [],
      "source": [
        "import numpy as np\n",
        "import matplotlib.pyplot as plt\n",
        "\n",
        "x = np.arange(-5,5,.1)\n",
        "y2 = x**2\n",
        "y3 = x**3\n",
        "\n",
        "plt.plot(x,y2)\n",
        "plt.plot(x,y3)\n",
        "\n",
        "plt.xlabel('x value')\n",
        "plt.ylabel('y value')\n",
        "plt.title('Plot functions')\n",
        "plt.legend(['$y = x^2$','$y = x^3$'])\n",
        "plt.grid(True)\n",
        "plt.show()"
      ]
    },
    {
      "cell_type": "markdown",
      "metadata": {
        "id": "xcMF-edPCZcV"
      },
      "source": [
        "<font color='red'> **More details on matplotlib can be found at** [W3Schools Python Tutorial](https://matplotlib.org/tutorials/introductory/pyplot.html)</font>\n",
        "___"
      ]
    }
  ],
  "metadata": {
    "kernelspec": {
      "display_name": "Python 3",
      "language": "python",
      "name": "python3"
    },
    "language_info": {
      "codemirror_mode": {
        "name": "ipython",
        "version": 3
      },
      "file_extension": ".py",
      "mimetype": "text/x-python",
      "name": "python",
      "nbconvert_exporter": "python",
      "pygments_lexer": "ipython3",
      "version": "3.7.4"
    },
    "colab": {
      "provenance": []
    }
  },
  "nbformat": 4,
  "nbformat_minor": 0
}
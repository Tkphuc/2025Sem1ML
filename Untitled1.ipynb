{
 "cells": [
  {
   "cell_type": "code",
   "execution_count": 1,
   "id": "2571eff1-3770-4d47-88ea-697b2da3f74c",
   "metadata": {},
   "outputs": [],
   "source": [
    "import pandas as pd\n",
    "import matplotlib.pyplot as plt\n",
    "import numpy as np"
   ]
  },
  {
   "cell_type": "code",
   "execution_count": 5,
   "id": "328f82c8-484d-4381-8f2d-e842ef647c6d",
   "metadata": {},
   "outputs": [
    {
     "ename": "SyntaxError",
     "evalue": "(unicode error) 'unicodeescape' codec can't decode bytes in position 2-3: truncated \\UXXXXXXXX escape (1909354242.py, line 1)",
     "output_type": "error",
     "traceback": [
      "\u001b[1;36m  Cell \u001b[1;32mIn[5], line 1\u001b[1;36m\u001b[0m\n\u001b[1;33m    bostonHouseFrame = pd.read_csv(\"C:\\Users\\Local_\\OneDrive - RMIT University\\Semester folders\\2025_Sem_1\\MachineLearning - COSC2753\\housing-2.data\",delimiter=\"\\s+\"\u001b[0m\n\u001b[1;37m                                   ^\u001b[0m\n\u001b[1;31mSyntaxError\u001b[0m\u001b[1;31m:\u001b[0m (unicode error) 'unicodeescape' codec can't decode bytes in position 2-3: truncated \\UXXXXXXXX escape\n"
     ]
    }
   ],
   "source": [
    "bostonHouseFrame = pd.read_csv(\"C:\\Users\\Local_\\OneDrive - RMIT University\\Semester folders\\2025_Sem_1\\MachineLearning - COSC2753\\housing-2.data\",delimiter=\"\\s+\""
   ]
  },
  {
   "cell_type": "code",
   "execution_count": null,
   "id": "62910c31-17ae-4c48-8160-58dde8f512f9",
   "metadata": {},
   "outputs": [],
   "source": []
  }
 ],
 "metadata": {
  "kernelspec": {
   "display_name": "Python [conda env:base] *",
   "language": "python",
   "name": "conda-base-py"
  },
  "language_info": {
   "codemirror_mode": {
    "name": "ipython",
    "version": 3
   },
   "file_extension": ".py",
   "mimetype": "text/x-python",
   "name": "python",
   "nbconvert_exporter": "python",
   "pygments_lexer": "ipython3",
   "version": "3.12.7"
  }
 },
 "nbformat": 4,
 "nbformat_minor": 5
}

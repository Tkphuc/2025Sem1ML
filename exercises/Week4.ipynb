{
 "cells": [
  {
   "cell_type": "code",
   "execution_count": 3,
   "id": "00540fdb-82ac-4eb3-90c9-f2e74bb91117",
   "metadata": {},
   "outputs": [],
   "source": [
    "import pandas as pd\n",
    "import matplotlib.pyplot as plt\n",
    "import numpy as np\n",
    "\n",
    "bostonHouseFrame = pd.read_csv(r\"C:\\Users\\Local_\\OneDrive - RMIT University\\Semester folders\\2025_Sem_1\\MachineLearning - COSC2753\\Tutorial\\housing-2.data.csv\",delimiter=\"\\\\s+\")\n",
    "bikeShare = pd.read_csv(r\"C:\\Users\\Local_\\OneDrive - RMIT University\\Semester folders\\2025_Sem_1\\MachineLearning - COSC2753\\Tutorial\\bikeShareDay-1.csv\",delimiter=\"\\\\s+\")\n"
   ]
  },
  {
   "cell_type": "code",
   "execution_count": 13,
   "id": "6ce70c3e-99b9-4b18-8bd7-a416753d3000",
   "metadata": {},
   "outputs": [
    {
     "name": "stdout",
     "output_type": "stream",
     "text": [
      "(404, 1)\n",
      "(102, 1)\n",
      "(404,)\n",
      "(102,)\n"
     ]
    }
   ],
   "source": [
    "import seaborn as sns\n",
    "from sklearn.model_selection import train_test_split\n",
    "trainX, testX, trainY, testY = train_test_split(house_uniRM_x, house_y, test_size=0.2,shuffle=True)\n",
    "print(trainX.shape)\n",
    "print(testX.shape)\n",
    "print(trainY.shape)\n",
    "print(testY.shape)"
   ]
  },
  {
   "cell_type": "code",
   "execution_count": 33,
   "id": "396e2cab-4ee9-4a53-abd3-81617b767220",
   "metadata": {},
   "outputs": [
    {
     "name": "stdout",
     "output_type": "stream",
     "text": [
      "[[1.00000000e+00 6.01500000e+00 3.61802250e+01 2.17624053e+02\n",
      "  1.30900868e+03]\n",
      " [1.00000000e+00 7.35800000e+00 5.41401640e+01 3.98363327e+02\n",
      "  2.93115736e+03]\n",
      " [1.00000000e+00 6.23200000e+00 3.88378240e+01 2.42037319e+02\n",
      "  1.50837657e+03]\n",
      " ...\n",
      " [1.00000000e+00 6.20900000e+00 3.85516810e+01 2.39367387e+02\n",
      "  1.48623211e+03]\n",
      " [1.00000000e+00 6.85200000e+00 4.69499040e+01 3.21700742e+02\n",
      "  2.20429349e+03]\n",
      " [1.00000000e+00 6.27900000e+00 3.94258410e+01 2.47554856e+02\n",
      "  1.55439694e+03]]\n"
     ]
    }
   ],
   "source": [
    "from sklearn.preprocessing import PolynomialFeatures\n",
    "poly_feature = PolynomialFeatures(4)\n",
    "x_poly = poly_feature.fit_transform(trainX)\n",
    "print(x_poly)"
   ]
  },
  {
   "cell_type": "code",
   "execution_count": 49,
   "id": "6c18d6db-f0bb-4be4-9f39-55cb5ad3120f",
   "metadata": {},
   "outputs": [
    {
     "name": "stdout",
     "output_type": "stream",
     "text": [
      "-689.4077147911725 [ 0.00000000e+00  4.71029766e+02 -1.12029449e+02  1.13808208e+01\n",
      " -4.22560712e-01]\n"
     ]
    }
   ],
   "source": [
    "from sklearn.linear_model import LinearRegression\n",
    "polyReg = LinearRegression()\n",
    "polyReg.fit(x_poly,trainY)\n",
    "polyReg.predict(x_poly)\n",
    "print(polyReg.intercept_,polyReg.coef_)"
   ]
  },
  {
   "cell_type": "code",
   "execution_count": 59,
   "id": "a13e7fd8-817f-453e-bc3e-b0e043506c7c",
   "metadata": {
    "scrolled": true
   },
   "outputs": [
    {
     "name": "stdout",
     "output_type": "stream",
     "text": [
      "[14.19039971  6.24630482 12.27247461  8.68780959  7.62117367 13.66916131\n",
      "  5.23495099 12.32288551 10.29390067 11.11416915 18.59491854 14.27368922\n",
      "  9.844892   13.72349765 13.22155247 16.33586867 19.88196871  5.60843948\n",
      " 12.74920443 23.37270151 11.58442494 18.54595661 12.1139275   9.57394139\n",
      " 17.09053578 15.75299849 17.20855869  7.34517032  7.62117367 15.02461164\n",
      " 16.41398789 15.0151168  17.51369168 14.7032575  12.28926007 10.33653384\n",
      " 14.87300295 13.56988359 17.73031345 10.88598705 15.5504875  15.3776268\n",
      " 22.32233935 14.05216512 16.29684042 18.49696744  9.40710358 16.6586002\n",
      " 10.89351696 12.18882153  7.2451586   5.67456674  9.21944134 20.3573261\n",
      " 13.89640434 12.34815212 14.21813421 18.18288894 13.2836434  20.23244266\n",
      "  8.75025596  6.85761785  7.51654921  8.27041956  9.69171528  8.82496577\n",
      " 11.35485647  9.89210673 10.80350779 13.78705253  9.18253391 17.14953841\n",
      "  5.38642369 14.24589745  8.04241443 10.74392721 14.0429758  10.67730832\n",
      " 10.68468895 15.14827143  9.36915515  9.8853448  15.7143587   5.35303451\n",
      "  7.09952793 18.07474959  6.10168341  7.16755905 23.75887005 13.02767493\n",
      " 14.42238576 15.51201453 13.85989806 14.95820129 13.29252916 11.33134953\n",
      " 12.20551545 10.89351696  8.76168565 16.81548903 12.1139275   8.8076376\n",
      " 22.8192626  10.69946634  6.73250613 12.12223052 13.23927315 12.40726519\n",
      " 12.47509132 13.17731975  8.10207328  8.63165235 15.69505023 10.38652311\n",
      "  6.89860441 13.45313116  9.56096987  6.67567472 13.17731975  8.38615467\n",
      " 16.17015173 18.03540941 16.11176315  7.8683944   6.30872075 17.28727596\n",
      " 10.77367481 13.40839532 12.95765904 17.09053578  9.30636959  7.99333107\n",
      "  5.95618721 20.10032817 14.34793863 13.23041084  8.22903001 11.69674663\n",
      " 14.79745152  1.89534914  5.24450299 13.08915262 14.29223283 12.16381521\n",
      " 14.50637035 14.48768618  9.33769016  8.35431188 20.6617512  10.81097935\n",
      "  5.40306003 10.96910612 11.5924159  16.06314817 12.29765962 11.82628657\n",
      " 12.86181808 15.66610202  8.45046808  5.7331391  11.98994312  7.4192756\n",
      "  9.86509294 11.93244649 12.46659748 13.39052756  8.90652412  8.04735436\n",
      " 13.22155247  6.75502538 13.73256626  8.93592886 22.06383393 20.02455646\n",
      " 14.64687493 18.50676738 17.15937396 10.11146135  6.57542813  9.50288199\n",
      " 13.15082768 14.69385336 16.91365612 23.92389539 15.31059438 11.57643893\n",
      " 15.46397052  9.17027783  7.35331714 15.7143587  21.02830469  6.56067585\n",
      "  6.73250613  6.48577222 18.15340365 19.60453812 14.5905948  14.69385336\n",
      " 12.82709187 11.70480641 10.32941453 12.67166174 10.8484169  15.13874439\n",
      " 11.63244474 14.64687493 18.87828396 11.43354167  4.18583899 18.23201777\n",
      " 15.49279058 21.27168903  7.0078438  13.27993747 11.56048178 24.13752073\n",
      " 18.27130801 18.82950952  9.9260011   7.49515478 10.90105215 11.06815645\n",
      " 11.25332371  8.55951941 12.58591248  9.04299101 12.8705101   9.0130624\n",
      " 10.23736584 10.40802948 11.08347323  8.62606869 11.44933916  6.11956707\n",
      "  7.54673392 12.60302762 11.13724552  4.58627288  6.80407944 14.78801975\n",
      "  7.49515478 20.10032817 15.04360889 20.10978569 13.69631331 16.37491804\n",
      " 15.56011092 11.7370943  15.51201453 18.12391275  7.51225927 23.99690133\n",
      " 12.60302762 21.31637502 12.96639668 14.45035363 16.60962292  9.33769016\n",
      " 10.65519869  9.59344166 25.23590199 14.77859071 12.82709187 14.05216512\n",
      " 10.53082872 15.69505023 16.20910718 15.87878201 13.48898776 10.61845707\n",
      " 12.08904638  6.1105975  14.48768618  8.0771147  23.7122601  15.35846347\n",
      " 15.29146261  8.45046808 14.80688602 15.73367481 11.37055311  9.93959836\n",
      " 15.90785188  9.34397161 24.27223878 17.58261713 15.5024015  10.12536162\n",
      "  9.06703857 10.73650367 16.95294417  5.0571351  15.32016368  8.21874053\n",
      " 14.24589745 13.54288489 10.94637409 14.93925004 10.66256319 14.9297783\n",
      " 13.9512669  18.47736447  5.40306003 13.74163843 13.34592508 13.98791004\n",
      " 14.46901392 23.42259127 10.09065282  4.55327033 13.1596544   8.58160926\n",
      " 10.30808966 15.41598    12.44962314 12.29765962 10.80350779 10.69946634\n",
      "  6.53730715  7.67469141  8.45586534 10.23736584  6.85423466 10.31519244\n",
      " 12.38190407 10.13232013 18.16323272 11.50478822 17.8976621   8.29125341\n",
      " 23.69213504 15.3872118  23.50706533  5.89551359 15.56973639  6.99705846\n",
      " 17.12986879  6.32406958 18.2123683  15.52162965 12.44114263  4.44295907\n",
      " 16.40421854  9.26276365 14.15346542 17.09053578 25.42981096 20.23244266\n",
      " 25.23832465 12.85313024 14.11658303 12.95765904 13.34592508 15.88847022\n",
      " 14.65626495 23.2497021  20.49468273 10.89351696 11.38626998 16.36515375\n",
      " 14.30150934 14.13501771 15.47357508 12.52614719  7.31279985  5.99475329\n",
      " 16.11176315 15.08163343 14.45968228 12.76648311  5.48624443 10.49454763\n",
      " 13.04521973 17.13970335 16.02428463 17.16920999  6.36045177  8.13725737\n",
      "  5.31938994  8.38615467  2.32564607 11.06050587 10.98428707 13.45313116\n",
      " 14.93925004  7.97871795 12.82709187 23.92389539 12.69747075 10.91613838\n",
      " 17.83860594 11.5924159  11.01471186 11.12185609  8.75596789 11.08347323\n",
      " 12.44962314  9.77125841 12.8705101   9.66538328  7.38200221 12.46659748\n",
      "  8.08708085 11.8833491 ]\n"
     ]
    },
    {
     "ename": "ValueError",
     "evalue": "Found input variables with inconsistent numbers of samples: [506, 404]",
     "output_type": "error",
     "traceback": [
      "\u001b[1;31m---------------------------------------------------------------------------\u001b[0m",
      "\u001b[1;31mValueError\u001b[0m                                Traceback (most recent call last)",
      "Cell \u001b[1;32mIn[59], line 4\u001b[0m\n\u001b[0;32m      2\u001b[0m pred_uniRM_y \u001b[38;5;241m=\u001b[39m polyReg\u001b[38;5;241m.\u001b[39mpredict(x_poly)\n\u001b[0;32m      3\u001b[0m \u001b[38;5;28mprint\u001b[39m(pred_uniRM_y)\n\u001b[1;32m----> 4\u001b[0m pred_ord_1 \u001b[38;5;241m=\u001b[39m mean_squared_error(house_y,pred_uniRM_y)\n\u001b[0;32m      5\u001b[0m pred_ord_4 \u001b[38;5;241m=\u001b[39m mean_squared_error(house_y,pred_uniRM_y)\n",
      "File \u001b[1;32m~\\anaconda3\\Lib\\site-packages\\sklearn\\utils\\_param_validation.py:213\u001b[0m, in \u001b[0;36mvalidate_params.<locals>.decorator.<locals>.wrapper\u001b[1;34m(*args, **kwargs)\u001b[0m\n\u001b[0;32m    207\u001b[0m \u001b[38;5;28;01mtry\u001b[39;00m:\n\u001b[0;32m    208\u001b[0m     \u001b[38;5;28;01mwith\u001b[39;00m config_context(\n\u001b[0;32m    209\u001b[0m         skip_parameter_validation\u001b[38;5;241m=\u001b[39m(\n\u001b[0;32m    210\u001b[0m             prefer_skip_nested_validation \u001b[38;5;129;01mor\u001b[39;00m global_skip_validation\n\u001b[0;32m    211\u001b[0m         )\n\u001b[0;32m    212\u001b[0m     ):\n\u001b[1;32m--> 213\u001b[0m         \u001b[38;5;28;01mreturn\u001b[39;00m func(\u001b[38;5;241m*\u001b[39margs, \u001b[38;5;241m*\u001b[39m\u001b[38;5;241m*\u001b[39mkwargs)\n\u001b[0;32m    214\u001b[0m \u001b[38;5;28;01mexcept\u001b[39;00m InvalidParameterError \u001b[38;5;28;01mas\u001b[39;00m e:\n\u001b[0;32m    215\u001b[0m     \u001b[38;5;66;03m# When the function is just a wrapper around an estimator, we allow\u001b[39;00m\n\u001b[0;32m    216\u001b[0m     \u001b[38;5;66;03m# the function to delegate validation to the estimator, but we replace\u001b[39;00m\n\u001b[0;32m    217\u001b[0m     \u001b[38;5;66;03m# the name of the estimator by the name of the function in the error\u001b[39;00m\n\u001b[0;32m    218\u001b[0m     \u001b[38;5;66;03m# message to avoid confusion.\u001b[39;00m\n\u001b[0;32m    219\u001b[0m     msg \u001b[38;5;241m=\u001b[39m re\u001b[38;5;241m.\u001b[39msub(\n\u001b[0;32m    220\u001b[0m         \u001b[38;5;124mr\u001b[39m\u001b[38;5;124m\"\u001b[39m\u001b[38;5;124mparameter of \u001b[39m\u001b[38;5;124m\\\u001b[39m\u001b[38;5;124mw+ must be\u001b[39m\u001b[38;5;124m\"\u001b[39m,\n\u001b[0;32m    221\u001b[0m         \u001b[38;5;124mf\u001b[39m\u001b[38;5;124m\"\u001b[39m\u001b[38;5;124mparameter of \u001b[39m\u001b[38;5;132;01m{\u001b[39;00mfunc\u001b[38;5;241m.\u001b[39m\u001b[38;5;18m__qualname__\u001b[39m\u001b[38;5;132;01m}\u001b[39;00m\u001b[38;5;124m must be\u001b[39m\u001b[38;5;124m\"\u001b[39m,\n\u001b[0;32m    222\u001b[0m         \u001b[38;5;28mstr\u001b[39m(e),\n\u001b[0;32m    223\u001b[0m     )\n",
      "File \u001b[1;32m~\\anaconda3\\Lib\\site-packages\\sklearn\\metrics\\_regression.py:506\u001b[0m, in \u001b[0;36mmean_squared_error\u001b[1;34m(y_true, y_pred, sample_weight, multioutput, squared)\u001b[0m\n\u001b[0;32m    501\u001b[0m     \u001b[38;5;28;01mif\u001b[39;00m \u001b[38;5;129;01mnot\u001b[39;00m squared:\n\u001b[0;32m    502\u001b[0m         \u001b[38;5;28;01mreturn\u001b[39;00m root_mean_squared_error(\n\u001b[0;32m    503\u001b[0m             y_true, y_pred, sample_weight\u001b[38;5;241m=\u001b[39msample_weight, multioutput\u001b[38;5;241m=\u001b[39mmultioutput\n\u001b[0;32m    504\u001b[0m         )\n\u001b[1;32m--> 506\u001b[0m y_type, y_true, y_pred, multioutput \u001b[38;5;241m=\u001b[39m _check_reg_targets(\n\u001b[0;32m    507\u001b[0m     y_true, y_pred, multioutput\n\u001b[0;32m    508\u001b[0m )\n\u001b[0;32m    509\u001b[0m check_consistent_length(y_true, y_pred, sample_weight)\n\u001b[0;32m    510\u001b[0m output_errors \u001b[38;5;241m=\u001b[39m np\u001b[38;5;241m.\u001b[39maverage((y_true \u001b[38;5;241m-\u001b[39m y_pred) \u001b[38;5;241m*\u001b[39m\u001b[38;5;241m*\u001b[39m \u001b[38;5;241m2\u001b[39m, axis\u001b[38;5;241m=\u001b[39m\u001b[38;5;241m0\u001b[39m, weights\u001b[38;5;241m=\u001b[39msample_weight)\n",
      "File \u001b[1;32m~\\anaconda3\\Lib\\site-packages\\sklearn\\metrics\\_regression.py:111\u001b[0m, in \u001b[0;36m_check_reg_targets\u001b[1;34m(y_true, y_pred, multioutput, dtype, xp)\u001b[0m\n\u001b[0;32m     76\u001b[0m \u001b[38;5;250m\u001b[39m\u001b[38;5;124;03m\"\"\"Check that y_true and y_pred belong to the same regression task.\u001b[39;00m\n\u001b[0;32m     77\u001b[0m \n\u001b[0;32m     78\u001b[0m \u001b[38;5;124;03mParameters\u001b[39;00m\n\u001b[1;32m   (...)\u001b[0m\n\u001b[0;32m    107\u001b[0m \u001b[38;5;124;03m    correct keyword.\u001b[39;00m\n\u001b[0;32m    108\u001b[0m \u001b[38;5;124;03m\"\"\"\u001b[39;00m\n\u001b[0;32m    109\u001b[0m xp, _ \u001b[38;5;241m=\u001b[39m get_namespace(y_true, y_pred, multioutput, xp\u001b[38;5;241m=\u001b[39mxp)\n\u001b[1;32m--> 111\u001b[0m check_consistent_length(y_true, y_pred)\n\u001b[0;32m    112\u001b[0m y_true \u001b[38;5;241m=\u001b[39m check_array(y_true, ensure_2d\u001b[38;5;241m=\u001b[39m\u001b[38;5;28;01mFalse\u001b[39;00m, dtype\u001b[38;5;241m=\u001b[39mdtype)\n\u001b[0;32m    113\u001b[0m y_pred \u001b[38;5;241m=\u001b[39m check_array(y_pred, ensure_2d\u001b[38;5;241m=\u001b[39m\u001b[38;5;28;01mFalse\u001b[39;00m, dtype\u001b[38;5;241m=\u001b[39mdtype)\n",
      "File \u001b[1;32m~\\anaconda3\\Lib\\site-packages\\sklearn\\utils\\validation.py:457\u001b[0m, in \u001b[0;36mcheck_consistent_length\u001b[1;34m(*arrays)\u001b[0m\n\u001b[0;32m    455\u001b[0m uniques \u001b[38;5;241m=\u001b[39m np\u001b[38;5;241m.\u001b[39munique(lengths)\n\u001b[0;32m    456\u001b[0m \u001b[38;5;28;01mif\u001b[39;00m \u001b[38;5;28mlen\u001b[39m(uniques) \u001b[38;5;241m>\u001b[39m \u001b[38;5;241m1\u001b[39m:\n\u001b[1;32m--> 457\u001b[0m     \u001b[38;5;28;01mraise\u001b[39;00m \u001b[38;5;167;01mValueError\u001b[39;00m(\n\u001b[0;32m    458\u001b[0m         \u001b[38;5;124m\"\u001b[39m\u001b[38;5;124mFound input variables with inconsistent numbers of samples: \u001b[39m\u001b[38;5;132;01m%r\u001b[39;00m\u001b[38;5;124m\"\u001b[39m\n\u001b[0;32m    459\u001b[0m         \u001b[38;5;241m%\u001b[39m [\u001b[38;5;28mint\u001b[39m(l) \u001b[38;5;28;01mfor\u001b[39;00m l \u001b[38;5;129;01min\u001b[39;00m lengths]\n\u001b[0;32m    460\u001b[0m     )\n",
      "\u001b[1;31mValueError\u001b[0m: Found input variables with inconsistent numbers of samples: [506, 404]"
     ]
    }
   ],
   "source": [
    "from sklearn.metrics import mean_squared_error\n",
    "pred_uniRM_y = polyReg.predict(x_poly)\n",
    "print(pred_uniRM_y)\n",
    "pred_ord_1 = mean_squared_error(house_y,pred_uniRM_y)\n",
    "pred_ord_4 = mean_squared_error(house_y,pred_uniRM_y)"
   ]
  },
  {
   "cell_type": "code",
   "execution_count": 89,
   "id": "7447fc22-9bd7-4b26-b726-2fefe13f9ff9",
   "metadata": {},
   "outputs": [
    {
     "ename": "KeyError",
     "evalue": "'[0, 4, 25, 26, 44, 48, 63, 66, 67, 74, 77, 79, 90, 91, 102, 106, 132, 148, 152, 160, 164, 168, 181, 190, 210, 214, 218, 219, 220, 221, 222, 227, 231, 240, 254, 256, 271, 292, 305, 307, 313, 314, 315, 322, 324, 327, 329, 330, 333, 343, 344, 354, 356, 363, 367, 371, 373, 376, 392, 395, 400, 403, 407, 412, 413, 416, 422, 441, 442, 450, 458, 478, 480, 484, 488, 489, 496, 497, 504] not in index'",
     "output_type": "error",
     "traceback": [
      "\u001b[1;31m---------------------------------------------------------------------------\u001b[0m",
      "\u001b[1;31mKeyError\u001b[0m                                  Traceback (most recent call last)",
      "Cell \u001b[1;32mIn[89], line 8\u001b[0m\n\u001b[0;32m      5\u001b[0m lRegPara \u001b[38;5;241m=\u001b[39m [\u001b[38;5;241m0.01\u001b[39m, \u001b[38;5;241m0.05\u001b[39m, \u001b[38;5;241m0.1\u001b[39m, \u001b[38;5;241m0.25\u001b[39m, \u001b[38;5;241m0.5\u001b[39m, \u001b[38;5;241m0.75\u001b[39m, \u001b[38;5;241m1\u001b[39m]\n\u001b[0;32m      6\u001b[0m \u001b[38;5;28;01mfor\u001b[39;00m trainIndex, testIndex \u001b[38;5;129;01min\u001b[39;00m kFold\u001b[38;5;241m.\u001b[39msplit(bostonHouseFrame):\n\u001b[0;32m      7\u001b[0m \u001b[38;5;66;03m# split the train test further\u001b[39;00m\n\u001b[1;32m----> 8\u001b[0m     trainX, validX, trainY, validY \u001b[38;5;241m=\u001b[39m model_selection\u001b[38;5;241m.\u001b[39mtrain_test_split(np\u001b[38;5;241m.\u001b[39marray(X_train\u001b[38;5;241m.\u001b[39mloc[trainIndex]), np\u001b[38;5;241m.\u001b[39marray(Y_train\u001b[38;5;241m.\u001b[39mloc[trainIndex]), test_size\u001b[38;5;241m=\u001b[39m\u001b[38;5;241m0.20\u001b[39m)\n\u001b[0;32m     10\u001b[0m trainX \u001b[38;5;241m=\u001b[39m np\u001b[38;5;241m.\u001b[39marray(X_train\u001b[38;5;241m.\u001b[39miloc[:])\n\u001b[0;32m     11\u001b[0m trainY \u001b[38;5;241m=\u001b[39m np\u001b[38;5;241m.\u001b[39marray(Y_train\u001b[38;5;241m.\u001b[39miloc[:])\n",
      "File \u001b[1;32m~\\anaconda3\\Lib\\site-packages\\pandas\\core\\indexing.py:1191\u001b[0m, in \u001b[0;36m_LocationIndexer.__getitem__\u001b[1;34m(self, key)\u001b[0m\n\u001b[0;32m   1189\u001b[0m maybe_callable \u001b[38;5;241m=\u001b[39m com\u001b[38;5;241m.\u001b[39mapply_if_callable(key, \u001b[38;5;28mself\u001b[39m\u001b[38;5;241m.\u001b[39mobj)\n\u001b[0;32m   1190\u001b[0m maybe_callable \u001b[38;5;241m=\u001b[39m \u001b[38;5;28mself\u001b[39m\u001b[38;5;241m.\u001b[39m_check_deprecated_callable_usage(key, maybe_callable)\n\u001b[1;32m-> 1191\u001b[0m \u001b[38;5;28;01mreturn\u001b[39;00m \u001b[38;5;28mself\u001b[39m\u001b[38;5;241m.\u001b[39m_getitem_axis(maybe_callable, axis\u001b[38;5;241m=\u001b[39maxis)\n",
      "File \u001b[1;32m~\\anaconda3\\Lib\\site-packages\\pandas\\core\\indexing.py:1420\u001b[0m, in \u001b[0;36m_LocIndexer._getitem_axis\u001b[1;34m(self, key, axis)\u001b[0m\n\u001b[0;32m   1417\u001b[0m     \u001b[38;5;28;01mif\u001b[39;00m \u001b[38;5;28mhasattr\u001b[39m(key, \u001b[38;5;124m\"\u001b[39m\u001b[38;5;124mndim\u001b[39m\u001b[38;5;124m\"\u001b[39m) \u001b[38;5;129;01mand\u001b[39;00m key\u001b[38;5;241m.\u001b[39mndim \u001b[38;5;241m>\u001b[39m \u001b[38;5;241m1\u001b[39m:\n\u001b[0;32m   1418\u001b[0m         \u001b[38;5;28;01mraise\u001b[39;00m \u001b[38;5;167;01mValueError\u001b[39;00m(\u001b[38;5;124m\"\u001b[39m\u001b[38;5;124mCannot index with multidimensional key\u001b[39m\u001b[38;5;124m\"\u001b[39m)\n\u001b[1;32m-> 1420\u001b[0m     \u001b[38;5;28;01mreturn\u001b[39;00m \u001b[38;5;28mself\u001b[39m\u001b[38;5;241m.\u001b[39m_getitem_iterable(key, axis\u001b[38;5;241m=\u001b[39maxis)\n\u001b[0;32m   1422\u001b[0m \u001b[38;5;66;03m# nested tuple slicing\u001b[39;00m\n\u001b[0;32m   1423\u001b[0m \u001b[38;5;28;01mif\u001b[39;00m is_nested_tuple(key, labels):\n",
      "File \u001b[1;32m~\\anaconda3\\Lib\\site-packages\\pandas\\core\\indexing.py:1360\u001b[0m, in \u001b[0;36m_LocIndexer._getitem_iterable\u001b[1;34m(self, key, axis)\u001b[0m\n\u001b[0;32m   1357\u001b[0m \u001b[38;5;28mself\u001b[39m\u001b[38;5;241m.\u001b[39m_validate_key(key, axis)\n\u001b[0;32m   1359\u001b[0m \u001b[38;5;66;03m# A collection of keys\u001b[39;00m\n\u001b[1;32m-> 1360\u001b[0m keyarr, indexer \u001b[38;5;241m=\u001b[39m \u001b[38;5;28mself\u001b[39m\u001b[38;5;241m.\u001b[39m_get_listlike_indexer(key, axis)\n\u001b[0;32m   1361\u001b[0m \u001b[38;5;28;01mreturn\u001b[39;00m \u001b[38;5;28mself\u001b[39m\u001b[38;5;241m.\u001b[39mobj\u001b[38;5;241m.\u001b[39m_reindex_with_indexers(\n\u001b[0;32m   1362\u001b[0m     {axis: [keyarr, indexer]}, copy\u001b[38;5;241m=\u001b[39m\u001b[38;5;28;01mTrue\u001b[39;00m, allow_dups\u001b[38;5;241m=\u001b[39m\u001b[38;5;28;01mTrue\u001b[39;00m\n\u001b[0;32m   1363\u001b[0m )\n",
      "File \u001b[1;32m~\\anaconda3\\Lib\\site-packages\\pandas\\core\\indexing.py:1558\u001b[0m, in \u001b[0;36m_LocIndexer._get_listlike_indexer\u001b[1;34m(self, key, axis)\u001b[0m\n\u001b[0;32m   1555\u001b[0m ax \u001b[38;5;241m=\u001b[39m \u001b[38;5;28mself\u001b[39m\u001b[38;5;241m.\u001b[39mobj\u001b[38;5;241m.\u001b[39m_get_axis(axis)\n\u001b[0;32m   1556\u001b[0m axis_name \u001b[38;5;241m=\u001b[39m \u001b[38;5;28mself\u001b[39m\u001b[38;5;241m.\u001b[39mobj\u001b[38;5;241m.\u001b[39m_get_axis_name(axis)\n\u001b[1;32m-> 1558\u001b[0m keyarr, indexer \u001b[38;5;241m=\u001b[39m ax\u001b[38;5;241m.\u001b[39m_get_indexer_strict(key, axis_name)\n\u001b[0;32m   1560\u001b[0m \u001b[38;5;28;01mreturn\u001b[39;00m keyarr, indexer\n",
      "File \u001b[1;32m~\\anaconda3\\Lib\\site-packages\\pandas\\core\\indexes\\base.py:6200\u001b[0m, in \u001b[0;36mIndex._get_indexer_strict\u001b[1;34m(self, key, axis_name)\u001b[0m\n\u001b[0;32m   6197\u001b[0m \u001b[38;5;28;01melse\u001b[39;00m:\n\u001b[0;32m   6198\u001b[0m     keyarr, indexer, new_indexer \u001b[38;5;241m=\u001b[39m \u001b[38;5;28mself\u001b[39m\u001b[38;5;241m.\u001b[39m_reindex_non_unique(keyarr)\n\u001b[1;32m-> 6200\u001b[0m \u001b[38;5;28mself\u001b[39m\u001b[38;5;241m.\u001b[39m_raise_if_missing(keyarr, indexer, axis_name)\n\u001b[0;32m   6202\u001b[0m keyarr \u001b[38;5;241m=\u001b[39m \u001b[38;5;28mself\u001b[39m\u001b[38;5;241m.\u001b[39mtake(indexer)\n\u001b[0;32m   6203\u001b[0m \u001b[38;5;28;01mif\u001b[39;00m \u001b[38;5;28misinstance\u001b[39m(key, Index):\n\u001b[0;32m   6204\u001b[0m     \u001b[38;5;66;03m# GH 42790 - Preserve name from an Index\u001b[39;00m\n",
      "File \u001b[1;32m~\\anaconda3\\Lib\\site-packages\\pandas\\core\\indexes\\base.py:6252\u001b[0m, in \u001b[0;36mIndex._raise_if_missing\u001b[1;34m(self, key, indexer, axis_name)\u001b[0m\n\u001b[0;32m   6249\u001b[0m     \u001b[38;5;28;01mraise\u001b[39;00m \u001b[38;5;167;01mKeyError\u001b[39;00m(\u001b[38;5;124mf\u001b[39m\u001b[38;5;124m\"\u001b[39m\u001b[38;5;124mNone of [\u001b[39m\u001b[38;5;132;01m{\u001b[39;00mkey\u001b[38;5;132;01m}\u001b[39;00m\u001b[38;5;124m] are in the [\u001b[39m\u001b[38;5;132;01m{\u001b[39;00maxis_name\u001b[38;5;132;01m}\u001b[39;00m\u001b[38;5;124m]\u001b[39m\u001b[38;5;124m\"\u001b[39m)\n\u001b[0;32m   6251\u001b[0m not_found \u001b[38;5;241m=\u001b[39m \u001b[38;5;28mlist\u001b[39m(ensure_index(key)[missing_mask\u001b[38;5;241m.\u001b[39mnonzero()[\u001b[38;5;241m0\u001b[39m]]\u001b[38;5;241m.\u001b[39munique())\n\u001b[1;32m-> 6252\u001b[0m \u001b[38;5;28;01mraise\u001b[39;00m \u001b[38;5;167;01mKeyError\u001b[39;00m(\u001b[38;5;124mf\u001b[39m\u001b[38;5;124m\"\u001b[39m\u001b[38;5;132;01m{\u001b[39;00mnot_found\u001b[38;5;132;01m}\u001b[39;00m\u001b[38;5;124m not in index\u001b[39m\u001b[38;5;124m\"\u001b[39m)\n",
      "\u001b[1;31mKeyError\u001b[0m: '[0, 4, 25, 26, 44, 48, 63, 66, 67, 74, 77, 79, 90, 91, 102, 106, 132, 148, 152, 160, 164, 168, 181, 190, 210, 214, 218, 219, 220, 221, 222, 227, 231, 240, 254, 256, 271, 292, 305, 307, 313, 314, 315, 322, 324, 327, 329, 330, 333, 343, 344, 354, 356, 363, 367, 371, 373, 376, 392, 395, 400, 403, 407, 412, 413, 416, 422, 441, 442, 450, 458, 478, 480, 484, 488, 489, 496, 497, 504] not in index'"
     ]
    }
   ],
   "source": [
    "from sklearn.model_selection import train_test_split\n",
    "from sklearn.linear_model import Lasso\n",
    "from sklearn import model_selection\n",
    "kFold = model_selection.KFold(n_splits=5, shuffle=True)\n",
    "lRegPara = [0.01, 0.05, 0.1, 0.25, 0.5, 0.75, 1]\n",
    "for trainIndex, testIndex in kFold.split(bostonHouseFrame):\n",
    "# split the train test further\n",
    "    trainX, validX, trainY, validY = model_selection.train_test_split(np.array(X_train.loc[trainIndex]), np.array(Y_train.loc[trainIndex]), test_size=0.20)\n",
    "\n",
    "trainX = np.array(X_train.iloc[:])\n",
    "trainY = np.array(Y_train.iloc[:])\n",
    "testX = np.array(X_train.iloc[:])\n",
    "testY = np.array(X_train.iloc[:])\n",
    "\n",
    "print(trainX.shape)\n",
    "print(trainY.shape)\n",
    "\n",
    "for regPara in lRegPara:\n",
    "    polyLassoReg = Lasso(alpha = regPara, normalize = True)\n"
   ]
  },
  {
   "cell_type": "code",
   "execution_count": null,
   "id": "67b665dd-c616-4b88-b6ba-91a52ba55f13",
   "metadata": {},
   "outputs": [],
   "source": [
    "\n",
    "\n"
   ]
  }
 ],
 "metadata": {
  "kernelspec": {
   "display_name": "Python [conda env:base] *",
   "language": "python",
   "name": "conda-base-py"
  },
  "language_info": {
   "codemirror_mode": {
    "name": "ipython",
    "version": 3
   },
   "file_extension": ".py",
   "mimetype": "text/x-python",
   "name": "python",
   "nbconvert_exporter": "python",
   "pygments_lexer": "ipython3",
   "version": "3.12.7"
  }
 },
 "nbformat": 4,
 "nbformat_minor": 5
}

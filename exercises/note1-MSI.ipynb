{
 "cells": [
  {
   "cell_type": "code",
   "execution_count": 1,
   "id": "f5a229fd-0d1e-452c-86ed-ff421960c0c3",
   "metadata": {},
   "outputs": [],
   "source": [
    "list1 = [1,2,7,3];\n"
   ]
  },
  {
   "cell_type": "code",
   "execution_count": 17,
   "id": "584d5999-a072-46e1-9956-717ff423cf3a",
   "metadata": {
    "scrolled": true
   },
   "outputs": [
    {
     "ename": "IndexError",
     "evalue": "list index out of range",
     "output_type": "error",
     "traceback": [
      "\u001b[1;31m---------------------------------------------------------------------------\u001b[0m",
      "\u001b[1;31mIndexError\u001b[0m                                Traceback (most recent call last)",
      "Cell \u001b[1;32mIn[17], line 1\u001b[0m\n\u001b[1;32m----> 1\u001b[0m \u001b[38;5;28mprint\u001b[39m(list1[\u001b[38;5;241m-\u001b[39m\u001b[38;5;241m12\u001b[39m])\n",
      "\u001b[1;31mIndexError\u001b[0m: list index out of range"
     ]
    }
   ],
   "source": [
    "print(list1[-12])\n"
   ]
  },
  {
   "cell_type": "raw",
   "id": "f0901511-ab61-4b57-bac5-09db3872a1b8",
   "metadata": {},
   "source": [
    "print(list1[-1])\n"
   ]
  },
  {
   "cell_type": "code",
   "execution_count": 19,
   "id": "82a920c3-20b2-4c61-8dba-96a4a39159cd",
   "metadata": {
    "scrolled": true
   },
   "outputs": [
    {
     "name": "stdout",
     "output_type": "stream",
     "text": [
      "7\n"
     ]
    }
   ],
   "source": [
    "print(list1[-2])"
   ]
  },
  {
   "cell_type": "code",
   "execution_count": 21,
   "id": "f49f9ccf-6403-4948-99a0-ac60899319b2",
   "metadata": {
    "scrolled": true
   },
   "outputs": [
    {
     "name": "stdout",
     "output_type": "stream",
     "text": [
      "List length:  4\n"
     ]
    }
   ],
   "source": [
    "print(\"List length: \",len(list1));"
   ]
  },
  {
   "cell_type": "code",
   "execution_count": 39,
   "id": "b987c8a5-cd4d-4da8-b951-c4a6533becf9",
   "metadata": {},
   "outputs": [
    {
     "name": "stdout",
     "output_type": "stream",
     "text": [
      "[]\n"
     ]
    }
   ],
   "source": [
    "print(list1[-4:0])"
   ]
  },
  {
   "cell_type": "code",
   "execution_count": 41,
   "id": "6d7d88bb-d7db-4063-810f-489779b2d5ca",
   "metadata": {},
   "outputs": [],
   "source": [
    "list2 = [1,2,7,3,4,5,6]"
   ]
  },
  {
   "cell_type": "code",
   "execution_count": 43,
   "id": "17a8c690-b775-4133-a634-7d9fd2ead917",
   "metadata": {},
   "outputs": [],
   "source": [
    "import numpy as np"
   ]
  },
  {
   "cell_type": "code",
   "execution_count": 47,
   "id": "9924572e-0d6e-47b5-bfbf-1a368125ab2a",
   "metadata": {},
   "outputs": [],
   "source": [
    "a = np.array([1,2,3,4,5,6,7,8,9,0])"
   ]
  },
  {
   "cell_type": "code",
   "execution_count": 51,
   "id": "3e2102fe-e9ee-498c-890c-0c67cc838955",
   "metadata": {},
   "outputs": [
    {
     "name": "stdout",
     "output_type": "stream",
     "text": [
      "[1 2 3 4 5 6 7 8 9 0] (10,)\n"
     ]
    }
   ],
   "source": [
    "print(a,a.shape)"
   ]
  },
  {
   "cell_type": "code",
   "execution_count": 53,
   "id": "d256bfc2-a7d6-4d7a-ad11-8cdb0b63b0ab",
   "metadata": {},
   "outputs": [
    {
     "name": "stdout",
     "output_type": "stream",
     "text": [
      "int32\n"
     ]
    }
   ],
   "source": [
    "print(a.dtype)"
   ]
  },
  {
   "cell_type": "code",
   "execution_count": 57,
   "id": "bee3c04a-c3c9-41fb-b37e-958f02e456be",
   "metadata": {},
   "outputs": [],
   "source": [
    "b = np.array([[1,2,3,4],[5,6,7,8],[9,10,11,12]])"
   ]
  },
  {
   "cell_type": "raw",
   "id": "3291a81e-30a1-4587-be9c-e7810917fbc0",
   "metadata": {},
   "source": [
    "print(b.shape)"
   ]
  },
  {
   "cell_type": "code",
   "execution_count": 59,
   "id": "8d176f2f-fc92-40d5-b18e-162a4c800c65",
   "metadata": {},
   "outputs": [
    {
     "name": "stdout",
     "output_type": "stream",
     "text": [
      "(3, 4)\n"
     ]
    }
   ],
   "source": [
    "print(b.shape)"
   ]
  },
  {
   "cell_type": "code",
   "execution_count": 63,
   "id": "0470e0ec-8b07-4eaa-86f5-f7f3cdc6ebcf",
   "metadata": {},
   "outputs": [
    {
     "ename": "AttributeError",
     "evalue": "'numpy.ndarray' object has no attribute 'ndarray'",
     "output_type": "error",
     "traceback": [
      "\u001b[1;31m---------------------------------------------------------------------------\u001b[0m",
      "\u001b[1;31mAttributeError\u001b[0m                            Traceback (most recent call last)",
      "Cell \u001b[1;32mIn[63], line 1\u001b[0m\n\u001b[1;32m----> 1\u001b[0m b\u001b[38;5;241m.\u001b[39mndarray\u001b[38;5;241m.\u001b[39mndim()\n",
      "\u001b[1;31mAttributeError\u001b[0m: 'numpy.ndarray' object has no attribute 'ndarray'"
     ]
    }
   ],
   "source": [
    "b.ndarray.ndim()"
   ]
  },
  {
   "cell_type": "code",
   "execution_count": 65,
   "id": "4c6ae5e0-fe3a-4a3e-9491-defd2f2f6522",
   "metadata": {},
   "outputs": [
    {
     "name": "stdout",
     "output_type": "stream",
     "text": [
      "[[ 1  2  3  4]\n",
      " [ 5  6  7  8]\n",
      " [ 9 10 11 12]]\n"
     ]
    }
   ],
   "source": [
    "print(b)"
   ]
  },
  {
   "cell_type": "code",
   "execution_count": 67,
   "id": "fc3363d9-1f60-4fa3-8f0b-b335f5432f85",
   "metadata": {},
   "outputs": [],
   "source": [
    "import matplotlib.pyplot as plt"
   ]
  },
  {
   "cell_type": "code",
   "execution_count": null,
   "id": "eeebc12f-b048-488f-b1a4-fe2ac8c61d88",
   "metadata": {},
   "outputs": [],
   "source": []
  }
 ],
 "metadata": {
  "kernelspec": {
   "display_name": "Python [conda env:base] *",
   "language": "python",
   "name": "conda-base-py"
  },
  "language_info": {
   "codemirror_mode": {
    "name": "ipython",
    "version": 3
   },
   "file_extension": ".py",
   "mimetype": "text/x-python",
   "name": "python",
   "nbconvert_exporter": "python",
   "pygments_lexer": "ipython3",
   "version": "3.12.7"
  }
 },
 "nbformat": 4,
 "nbformat_minor": 5
}

{
 "cells": [
  {
   "cell_type": "code",
   "execution_count": 1,
   "id": "f16e88d4-caeb-4294-bd2b-21d2ea61f06c",
   "metadata": {},
   "outputs": [
    {
     "name": "stdout",
     "output_type": "stream",
     "text": [
      "Hello Machine Learning, here I come!\n"
     ]
    },
    {
     "data": {
      "text/plain": [
       "3"
      ]
     },
     "execution_count": 1,
     "metadata": {},
     "output_type": "execute_result"
    }
   ],
   "source": [
    "print (\"Hello Machine Learning, here I come!\")\n",
    "1+2"
   ]
  },
  {
   "cell_type": "code",
   "execution_count": 3,
   "id": "61256e12-eb9d-44a2-9226-768708a9309e",
   "metadata": {},
   "outputs": [
    {
     "name": "stdout",
     "output_type": "stream",
     "text": [
      "hello world\n",
      "hello world\n"
     ]
    }
   ],
   "source": [
    "print('hello world')\n",
    "a = 'hello world' \n",
    "print(a)"
   ]
  },
  {
   "cell_type": "code",
   "execution_count": 5,
   "id": "11cc1f10-3233-4e00-80ee-fdadbbcf83f1",
   "metadata": {},
   "outputs": [],
   "source": [
    "b = 3*4"
   ]
  },
  {
   "cell_type": "code",
   "execution_count": 7,
   "id": "53009cf8-2aab-420b-988d-a5e34826c40b",
   "metadata": {},
   "outputs": [
    {
     "data": {
      "text/plain": [
       "1"
      ]
     },
     "execution_count": 7,
     "metadata": {},
     "output_type": "execute_result"
    }
   ],
   "source": [
    "c = [1,2,3]\n",
    "c[0]"
   ]
  },
  {
   "cell_type": "code",
   "execution_count": 9,
   "id": "733d44e5-7d64-49c9-afb8-83525d8ae6a9",
   "metadata": {},
   "outputs": [
    {
     "ename": "IndexError",
     "evalue": "list index out of range",
     "output_type": "error",
     "traceback": [
      "\u001b[0;31m---------------------------------------------------------------------------\u001b[0m",
      "\u001b[0;31mIndexError\u001b[0m                                Traceback (most recent call last)",
      "Cell \u001b[0;32mIn[9], line 1\u001b[0m\n\u001b[0;32m----> 1\u001b[0m c[\u001b[38;5;241m3\u001b[39m]\n",
      "\u001b[0;31mIndexError\u001b[0m: list index out of range"
     ]
    }
   ],
   "source": [
    "c[3]"
   ]
  },
  {
   "cell_type": "code",
   "execution_count": 11,
   "id": "1c53bd3f-7f43-4a2e-a9b1-c3bd6d38715a",
   "metadata": {},
   "outputs": [],
   "source": [
    "exit"
   ]
  },
  {
   "cell_type": "code",
   "execution_count": 3,
   "id": "8c697b08-d977-4d4b-94a8-3ffca336c2a6",
   "metadata": {},
   "outputs": [
    {
     "name": "stdout",
     "output_type": "stream",
     "text": [
      "-10.6\n",
      "-10.6\n",
      "5\n"
     ]
    }
   ],
   "source": [
    "number = -10.6\n",
    "name = 'name1'\n",
    "print(number)\n",
    "print(number)\n",
    "print(5)"
   ]
  },
  {
   "cell_type": "code",
   "execution_count": 5,
   "id": "3d31d911-9651-4adc-8a68-0c76bf13c485",
   "metadata": {},
   "outputs": [
    {
     "name": "stdout",
     "output_type": "stream",
     "text": [
      "statement1 <>"
     ]
    }
   ],
   "source": [
    "print(\"statement1\",end=\" <>\")"
   ]
  },
  {
   "cell_type": "code",
   "execution_count": 13,
   "id": "a5dacc3f-61b8-4988-b926-0122cd6d8488",
   "metadata": {},
   "outputs": [
    {
     "name": "stdout",
     "output_type": "stream",
     "text": [
      "statement1 <> statement2 <> statment3\n"
     ]
    }
   ],
   "source": [
    "print(\"statement1\",\"statement2\",\"statment3\",sep=\" <> \") \n"
   ]
  },
  {
   "cell_type": "code",
   "execution_count": 37,
   "id": "80757804-c68a-4334-be3b-2b49e0dbb49b",
   "metadata": {},
   "outputs": [
    {
     "name": "stdin",
     "output_type": "stream",
     "text": [
      "Enter x:  1\n",
      "Enter y:  -2\n"
     ]
    },
    {
     "name": "stdout",
     "output_type": "stream",
     "text": [
      "x+y <0 x+y =  -1\n"
     ]
    }
   ],
   "source": [
    "x = int(input(\"Enter x: \"))\n",
    "y = int(input (\"Enter y: \"))\n",
    "if x+y >10:\n",
    "    print(\"x+y > 10\",\"x+y = \",x+y,sep=\" \")\n",
    "elif x+y<0: \n",
    "    print(\"x+y <0\",\"x+y = \",x+y,sep=\" \")\n",
    "elif x+y>0 and x+y<=10: \n",
    "    print(\"0<x+y<=10\",\"x+y = \",x+y,sep=\" \")"
   ]
  },
  {
   "cell_type": "code",
   "execution_count": 43,
   "id": "d7e46629-04f2-41fb-9ae1-1c322ab2ec46",
   "metadata": {},
   "outputs": [
    {
     "name": "stdout",
     "output_type": "stream",
     "text": [
      "h\n",
      "e\n",
      "l\n",
      "l\n",
      "o\n",
      " \n",
      "w\n",
      "o\n",
      "r\n",
      "l\n",
      "d\n",
      "!\n",
      "12\n",
      "h\n",
      "e\n",
      "l\n",
      "l\n",
      "o\n",
      " \n",
      "w\n",
      "o\n",
      "r\n",
      "l\n",
      "d\n",
      "!\n"
     ]
    }
   ],
   "source": [
    "x = \"hello world!\"\n",
    "i = 0\n",
    "while i < len(x):\n",
    "    print (x[i])\n",
    "    i += 1\n",
    "print(i)    \n",
    "for a in x:\n",
    "    print (a)"
   ]
  },
  {
   "cell_type": "code",
   "execution_count": 13,
   "id": "834ad5a0-2385-4c1f-bc58-5f22cd2b615f",
   "metadata": {},
   "outputs": [
    {
     "name": "stdout",
     "output_type": "stream",
     "text": [
      "h\n",
      "e\n",
      "l\n",
      "l\n",
      "o\n"
     ]
    }
   ],
   "source": [
    "a = \"hello world!\"\n",
    "for i in a:\n",
    "    if(ord(i) >=65 and ord(i) <= 90) or (ord(i)>=97 and ord(i)<=122):\n",
    "        print(i)\n",
    "    else:\n",
    "        break"
   ]
  },
  {
   "cell_type": "code",
   "execution_count": 15,
   "id": "e75c7761-f81c-4d98-aeda-2510c8d944a6",
   "metadata": {},
   "outputs": [
    {
     "name": "stdout",
     "output_type": "stream",
     "text": [
      "h\n",
      "e\n",
      "l\n",
      "l\n",
      "o\n",
      "w\n",
      "o\n",
      "r\n",
      "l\n",
      "d\n"
     ]
    }
   ],
   "source": [
    "a = \"hello world!\"\n",
    "for i in a:\n",
    "    if(ord(i) >=65 and ord(i) <= 90) or (ord(i)>=97 and ord(i)<=122):\n",
    "        print(i)\n",
    "    else:\n",
    "        continue"
   ]
  },
  {
   "cell_type": "code",
   "execution_count": 1,
   "id": "c63cd77c-45ab-43de-9a3c-b6f427f977bf",
   "metadata": {},
   "outputs": [
    {
     "name": "stdin",
     "output_type": "stream",
     "text": [
      "Enter integer:  9\n"
     ]
    },
    {
     "name": "stdout",
     "output_type": "stream",
     "text": [
      "45\n"
     ]
    }
   ],
   "source": [
    "z = int(input(\"Enter integer: \"))\n",
    "def sum_of_numbers(a) :\n",
    "    if (a<=1) :\n",
    "        return a\n",
    "    return a + sum_of_numbers(a-1)        \n",
    "print(sum_of_numbers(z))"
   ]
  },
  {
   "cell_type": "code",
   "execution_count": 3,
   "id": "12d7a7bc-1510-49b7-ac9a-7bda4c14b99f",
   "metadata": {},
   "outputs": [
    {
     "name": "stdin",
     "output_type": "stream",
     "text": [
      "Enter integer:  4\n"
     ]
    },
    {
     "name": "stdout",
     "output_type": "stream",
     "text": [
      "12\n"
     ]
    }
   ],
   "source": [
    "z = int(input(\"Enter integer: \"))\n",
    "def factorial_of_numbers(a) : \n",
    "    while(a >=1) :\n",
    "        return a * (a-1)\n",
    "    return a\n",
    "print(factorial_of_numbers(z)) #this is not recursive function"
   ]
  },
  {
   "cell_type": "code",
   "execution_count": null,
   "id": "7cb5d20a-a39d-4432-96b1-9ad65691800e",
   "metadata": {},
   "outputs": [],
   "source": [
    "z = int(input(\"Enter integer: \"))\n",
    "def factorial(a):\n",
    "    if a == 0 or a == 1:\n",
    "        return 1  # Base case\n",
    "    return a * factorial(a - 1)\n",
    "print(factorial_of_numbers(z))     #this is a recursive function"
   ]
  }
 ],
 "metadata": {
  "kernelspec": {
   "display_name": "Python [conda env:base] *",
   "language": "python",
   "name": "conda-base-py"
  },
  "language_info": {
   "codemirror_mode": {
    "name": "ipython",
    "version": 3
   },
   "file_extension": ".py",
   "mimetype": "text/x-python",
   "name": "python",
   "nbconvert_exporter": "python",
   "pygments_lexer": "ipython3",
   "version": "3.12.7"
  }
 },
 "nbformat": 4,
 "nbformat_minor": 5
}
